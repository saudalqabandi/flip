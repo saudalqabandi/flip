{
 "cells": [
  {
   "cell_type": "code",
   "execution_count": 1,
   "metadata": {},
   "outputs": [],
   "source": [
    "import numpy as np\n",
    "import matplotlib.pyplot as plt\n",
    "import vtk"
   ]
  },
  {
   "cell_type": "code",
   "execution_count": 9,
   "metadata": {},
   "outputs": [],
   "source": [
    "with open('config.cfg') as f:\n",
    "    config = f.readlines()\n",
    "    \n",
    "config = [x for x in config if x[0] != '#']\n",
    "config = [x.split('=') for x in config if '=' in x]\n",
    "\n",
    "cfg = {}\n",
    "for x in config:\n",
    "    cfg[x[0].strip()] = x[1].strip()"
   ]
  },
  {
   "cell_type": "code",
   "execution_count": 10,
   "metadata": {},
   "outputs": [
    {
     "data": {
      "text/plain": [
       "1"
      ]
     },
     "execution_count": 10,
     "metadata": {},
     "output_type": "execute_result"
    }
   ],
   "source": [
    "radius = 0.5\n",
    "length = float(cfg['l'])\n",
    "\n",
    "# Create a spherocylinder\n",
    "cylinder = vtk.vtkCylinderSource()\n",
    "cylinder.SetRadius(radius)\n",
    "cylinder.SetHeight(length)\n",
    "cylinder.SetResolution(10)\n",
    "\n",
    "sphere1 = vtk.vtkSphereSource()\n",
    "sphere1.SetRadius(radius)\n",
    "sphere1.SetCenter(0, length / 2, 0)\n",
    "sphere1.SetThetaResolution(10)\n",
    "sphere1.SetPhiResolution(10)\n",
    "sphere1.SetEndPhi(180)  # Make it a hemisphere\n",
    "\n",
    "sphere2 = vtk.vtkSphereSource()\n",
    "sphere2.SetRadius(radius)\n",
    "sphere2.SetCenter(0, -length / 2, 0)\n",
    "sphere2.SetThetaResolution(10)\n",
    "sphere2.SetPhiResolution(10)\n",
    "sphere2.SetEndPhi(180)  # Make it a hemisphere\n",
    "\n",
    "# Append the cylinder and spheres to create a spherocylinder\n",
    "append_filter = vtk.vtkAppendPolyData()\n",
    "append_filter.AddInputConnection(cylinder.GetOutputPort())\n",
    "append_filter.AddInputConnection(sphere1.GetOutputPort())\n",
    "append_filter.AddInputConnection(sphere2.GetOutputPort())\n",
    "append_filter.Update()\n",
    "\n",
    "# Write the spherocylinder to a VTK file\n",
    "writer = vtk.vtkPolyDataWriter()\n",
    "writer.SetFileName(f\"spherocylinder_l_{cfg['l']}.vtk\")\n",
    "writer.SetInputData(append_filter.GetOutput())\n",
    "writer.Write()"
   ]
  }
 ],
 "metadata": {
  "kernelspec": {
   "display_name": "spherocylinder",
   "language": "python",
   "name": "python3"
  },
  "language_info": {
   "codemirror_mode": {
    "name": "ipython",
    "version": 3
   },
   "file_extension": ".py",
   "mimetype": "text/x-python",
   "name": "python",
   "nbconvert_exporter": "python",
   "pygments_lexer": "ipython3",
   "version": "3.13.0"
  }
 },
 "nbformat": 4,
 "nbformat_minor": 2
}
