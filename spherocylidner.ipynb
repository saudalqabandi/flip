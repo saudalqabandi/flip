{
 "cells": [
  {
   "cell_type": "code",
   "execution_count": 1,
   "metadata": {},
   "outputs": [],
   "source": [
    "import numpy as np\n",
    "import matplotlib.pyplot as plt\n",
    "import vtk"
   ]
  },
  {
   "cell_type": "code",
   "execution_count": 4,
   "metadata": {},
   "outputs": [],
   "source": [
    "with open('config.cfg') as f:\n",
    "    config = f.readlines()\n",
    "    \n",
    "config = [x for x in config if x[0] != '#']\n",
    "config = [x.split('=') for x in config if '=' in x]\n",
    "\n",
    "cfg = {}\n",
    "for x in config:\n",
    "    cfg[x[0].strip()] = x[1].strip()"
   ]
  },
  {
   "cell_type": "code",
   "execution_count": 10,
   "metadata": {},
   "outputs": [
    {
     "data": {
      "text/plain": [
       "1"
      ]
     },
     "execution_count": 10,
     "metadata": {},
     "output_type": "execute_result"
    }
   ],
   "source": [
    "radius = 0.5\n",
    "length = float(cfg['l'])\n",
    "\n",
    "# Create a spherocylinder\n",
    "cylinder = vtk.vtkCylinderSource()\n",
    "cylinder.SetRadius(radius)\n",
    "cylinder.SetHeight(length)\n",
    "cylinder.SetResolution(10)\n",
    "\n",
    "# Align the cylinder's major axis with the z axis\n",
    "transform = vtk.vtkTransform()\n",
    "transform.RotateX(90)\n",
    "transform_filter = vtk.vtkTransformPolyDataFilter()\n",
    "transform_filter.SetTransform(transform)\n",
    "transform_filter.SetInputConnection(cylinder.GetOutputPort())\n",
    "transform_filter.Update()\n",
    "\n",
    "cylinder = transform_filter.GetOutput()\n",
    "\n",
    "sphere1 = vtk.vtkSphereSource()\n",
    "sphere1.SetRadius(radius)\n",
    "sphere1.SetCenter(0, 0, length / 2)\n",
    "sphere1.SetThetaResolution(10)\n",
    "sphere1.SetPhiResolution(10)\n",
    "sphere1.SetEndPhi(180)  # Make it a hemisphere\n",
    "\n",
    "sphere2 = vtk.vtkSphereSource()\n",
    "sphere2.SetRadius(radius)\n",
    "sphere2.SetCenter(0, 0, -length / 2)\n",
    "sphere2.SetThetaResolution(10)\n",
    "sphere2.SetPhiResolution(10)\n",
    "sphere2.SetEndPhi(180)  # Make it a hemisphere\n",
    "\n",
    "# Append the cylinder and spheres to create a spherocylinder\n",
    "append_filter = vtk.vtkAppendPolyData()\n",
    "append_filter.AddInputConnection(transform_filter.GetOutputPort())\n",
    "append_filter.AddInputConnection(sphere1.GetOutputPort())\n",
    "append_filter.AddInputConnection(sphere2.GetOutputPort())\n",
    "append_filter.Update()\n",
    "\n",
    "# Write the spherocylinder to a VTK file\n",
    "writer = vtk.vtkPolyDataWriter()\n",
    "writer.SetFileName(f\"spherocylinder_l_{cfg['l']}.vtk\")\n",
    "writer.SetInputData(append_filter.GetOutput())\n",
    "writer.Write()"
   ]
  },
  {
   "cell_type": "code",
   "execution_count": 4,
   "metadata": {},
   "outputs": [
    {
     "data": {
      "text/plain": [
       "1"
      ]
     },
     "execution_count": 4,
     "metadata": {},
     "output_type": "execute_result"
    }
   ],
   "source": [
    "nParticles = int(cfg['nParticles'])\n",
    "length = float(cfg['l'])\n",
    "radius = 0.5\n",
    "\n",
    "# Create an append filter to combine all spherocylinders\n",
    "all_spherocylinders = vtk.vtkAppendPolyData()\n",
    "\n",
    "for i in range(nParticles):\n",
    "    # Generate random coordinates for the spherocylinder\n",
    "    x, y, z = np.random.uniform(-10, 10, 3)\n",
    "    \n",
    "    # Create a spherocylinder\n",
    "    cylinder = vtk.vtkCylinderSource()\n",
    "    cylinder.SetRadius(radius)\n",
    "    cylinder.SetHeight(length)\n",
    "    cylinder.SetResolution(10)\n",
    "\n",
    "    sphere1 = vtk.vtkSphereSource()\n",
    "    sphere1.SetRadius(radius)\n",
    "    sphere1.SetCenter(0, length / 2, 0)\n",
    "    sphere1.SetThetaResolution(10)\n",
    "    sphere1.SetPhiResolution(10)\n",
    "    sphere1.SetEndPhi(180)  # Make it a hemisphere\n",
    "\n",
    "    sphere2 = vtk.vtkSphereSource()\n",
    "    sphere2.SetRadius(radius)\n",
    "    sphere2.SetCenter(0, -length / 2, 0)\n",
    "    sphere2.SetThetaResolution(10)\n",
    "    sphere2.SetPhiResolution(10)\n",
    "    sphere2.SetEndPhi(180)  # Make it a hemisphere\n",
    "\n",
    "    # Append the cylinder and spheres to create a spherocylinder\n",
    "    append_filter = vtk.vtkAppendPolyData()\n",
    "    append_filter.AddInputConnection(cylinder.GetOutputPort())\n",
    "    append_filter.AddInputConnection(sphere1.GetOutputPort())\n",
    "    append_filter.AddInputConnection(sphere2.GetOutputPort())\n",
    "    append_filter.Update()\n",
    "\n",
    "    # Transform the spherocylinder to the random coordinates\n",
    "    transform = vtk.vtkTransform()\n",
    "    transform.Translate(x, y, z)\n",
    "    transform_filter = vtk.vtkTransformPolyDataFilter()\n",
    "    transform_filter.SetTransform(transform)\n",
    "    transform_filter.SetInputConnection(append_filter.GetOutputPort())\n",
    "    transform_filter.Update()\n",
    "\n",
    "    # Add the transformed spherocylinder to the combined polydata\n",
    "    all_spherocylinders.AddInputConnection(transform_filter.GetOutputPort())\n",
    "\n",
    "# Update the combined polydata\n",
    "all_spherocylinders.Update()\n",
    "\n",
    "# Write the combined spherocylinders to a VTP file\n",
    "writer = vtk.vtkXMLPolyDataWriter()\n",
    "writer.SetFileName(\"all_spherocylinders.vtp\")\n",
    "writer.SetInputData(all_spherocylinders.GetOutput())\n",
    "writer.Write()"
   ]
  },
  {
   "cell_type": "code",
   "execution_count": 4,
   "metadata": {},
   "outputs": [
    {
     "data": {
      "text/plain": [
       "1"
      ]
     },
     "execution_count": 4,
     "metadata": {},
     "output_type": "execute_result"
    }
   ],
   "source": [
    "nParticles = int(cfg[\"nParticles\"])\n",
    "length = float(cfg[\"l\"])\n",
    "radius = 0.5\n",
    "\n",
    "# Create an array of random particle positions\n",
    "r = np.random.uniform(-10, 10, (nParticles, 3))\n",
    "\n",
    "# Create an array of random particle orientations (in degrees)\n",
    "u = np.random.uniform(0, 360, (nParticles, 3))\n",
    "# Create an append filter to combine all spherocylinders\n",
    "all_spherocylinders = vtk.vtkAppendPolyData()\n",
    "\n",
    "for i in range(nParticles):\n",
    "    # Generate random coordinates for the spherocylinder\n",
    "    x, y, z = r[i]    \n",
    "    # Generate random orientation angles (in degrees)\n",
    "    angle_x, angle_y, angle_z = u[i]\n",
    "    \n",
    "    # Create a spherocylinder\n",
    "    cylinder = vtk.vtkCylinderSource()\n",
    "    cylinder.SetRadius(radius)\n",
    "    cylinder.SetHeight(length)\n",
    "    cylinder.SetResolution(10)\n",
    "\n",
    "    sphere1 = vtk.vtkSphereSource()\n",
    "    sphere1.SetRadius(radius)\n",
    "    sphere1.SetCenter(0, length / 2, 0)\n",
    "    sphere1.SetThetaResolution(10)\n",
    "    sphere1.SetPhiResolution(10)\n",
    "    sphere1.SetEndPhi(180)  # Make it a hemisphere\n",
    "\n",
    "    sphere2 = vtk.vtkSphereSource()\n",
    "    sphere2.SetRadius(radius)\n",
    "    sphere2.SetCenter(0, -length / 2, 0)\n",
    "    sphere2.SetThetaResolution(10)\n",
    "    sphere2.SetPhiResolution(10)\n",
    "    sphere2.SetEndPhi(180)  # Make it a hemisphere\n",
    "\n",
    "    # Append the cylinder and spheres to create a spherocylinder\n",
    "    append_filter = vtk.vtkAppendPolyData()\n",
    "    append_filter.AddInputConnection(cylinder.GetOutputPort())\n",
    "    append_filter.AddInputConnection(sphere1.GetOutputPort())\n",
    "    append_filter.AddInputConnection(sphere2.GetOutputPort())\n",
    "    append_filter.Update()\n",
    "\n",
    "    # Transform the spherocylinder to the random coordinates and orientation\n",
    "    transform = vtk.vtkTransform()\n",
    "    transform.Translate(x, y, z)\n",
    "    transform.RotateX(angle_x)\n",
    "    transform.RotateY(angle_y)\n",
    "    transform.RotateZ(angle_z)\n",
    "    transform_filter = vtk.vtkTransformPolyDataFilter()\n",
    "    transform_filter.SetTransform(transform)\n",
    "    transform_filter.SetInputConnection(append_filter.GetOutputPort())\n",
    "    transform_filter.Update()\n",
    "\n",
    "    # Add the transformed spherocylinder to the combined polydata\n",
    "    all_spherocylinders.AddInputConnection(transform_filter.GetOutputPort())\n",
    "\n",
    "# Update the combined polydata\n",
    "all_spherocylinders.Update()\n",
    "\n",
    "# Write the combined spherocylinders to a VTP file\n",
    "writer = vtk.vtkXMLPolyDataWriter()\n",
    "writer.SetFileName(\"all_spherocylinders_oriented.vtp\")\n",
    "writer.SetInputData(all_spherocylinders.GetOutput())\n",
    "writer.Write()\n"
   ]
  }
 ],
 "metadata": {
  "kernelspec": {
   "display_name": "data",
   "language": "python",
   "name": "python3"
  },
  "language_info": {
   "codemirror_mode": {
    "name": "ipython",
    "version": 3
   },
   "file_extension": ".py",
   "mimetype": "text/x-python",
   "name": "python",
   "nbconvert_exporter": "python",
   "pygments_lexer": "ipython3",
   "version": "3.13.0"
  }
 },
 "nbformat": 4,
 "nbformat_minor": 2
}
